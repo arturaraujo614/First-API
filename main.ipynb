{
 "cells": [
  {
   "cell_type": "code",
   "execution_count": 6,
   "metadata": {},
   "outputs": [
    {
     "name": "stdout",
     "output_type": "stream",
     "text": [
      " * Serving Flask app \"__main__\" (lazy loading)\n",
      " * Environment: production\n",
      "\u001b[31m   WARNING: This is a development server. Do not use it in a production deployment.\u001b[0m\n",
      "\u001b[2m   Use a production WSGI server instead.\u001b[0m\n",
      " * Debug mode: off\n"
     ]
    },
    {
     "name": "stderr",
     "output_type": "stream",
     "text": [
      " * Running on all addresses.\n",
      "   WARNING: This is a development server. Do not use it in a production deployment.\n",
      " * Running on http://192.168.1.6:5000/ (Press CTRL+C to quit)\n",
      "192.168.1.6 - - [01/Feb/2023 12:14:25] \"GET / HTTP/1.1\" 200 -\n",
      "192.168.1.6 - - [01/Feb/2023 12:14:25] \"GET /favicon.ico HTTP/1.1\" 404 -\n"
     ]
    }
   ],
   "source": [
    "import pandas as pd\n",
    "from flask import Flask\n",
    "\n",
    "#Inicializando o APP\n",
    "app = Flask(__name__)\n",
    "\n",
    "#Construir as funcionalidades\n",
    "@app.route('/')\n",
    "def homepage():\n",
    "    return 'API está no ar'\n",
    "\n",
    "@app.route('/pegar_vendas')\n",
    "def contato():\n",
    "    tabela = pd.read_csv('dados.csv')\n",
    "    total_vendas = tabela['Vendas'].sum()\n",
    "    resposta = {'Total de Vendas':total_vendas}\n",
    "    return resposta\n",
    "    \n",
    "\n",
    "#Rodar a API\n",
    "app.run(host='0.0.0.0')"
   ]
  },
  {
   "cell_type": "code",
   "execution_count": 4,
   "metadata": {},
   "outputs": [
    {
     "data": {
      "text/plain": [
       "3026.1000000000004"
      ]
     },
     "metadata": {},
     "output_type": "display_data"
    }
   ],
   "source": []
  }
 ],
 "metadata": {
  "kernelspec": {
   "display_name": "base",
   "language": "python",
   "name": "python3"
  },
  "language_info": {
   "codemirror_mode": {
    "name": "ipython",
    "version": 3
   },
   "file_extension": ".py",
   "mimetype": "text/x-python",
   "name": "python",
   "nbconvert_exporter": "python",
   "pygments_lexer": "ipython3",
   "version": "3.9.12"
  },
  "orig_nbformat": 4,
  "vscode": {
   "interpreter": {
    "hash": "5f1b78eb436411a9c3c2406ff65dd6a2a483e2b78ec2ae8c1343ef3e593983b6"
   }
  }
 },
 "nbformat": 4,
 "nbformat_minor": 2
}
